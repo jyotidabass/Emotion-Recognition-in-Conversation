{
  "nbformat": 4,
  "nbformat_minor": 0,
  "metadata": {
    "colab": {
      "provenance": [],
      "authorship_tag": "ABX9TyNWsRtgluKkLrCtGIQ4RkQI",
      "include_colab_link": true
    },
    "kernelspec": {
      "name": "python3",
      "display_name": "Python 3"
    },
    "language_info": {
      "name": "python"
    }
  },
  "cells": [
    {
      "cell_type": "markdown",
      "metadata": {
        "id": "view-in-github",
        "colab_type": "text"
      },
      "source": [
        "<a href=\"https://colab.research.google.com/github/jyotidabass/Emotion-Recognition-in-Conversation/blob/main/Emotion_Recognition_in_Conversation.ipynb\" target=\"_parent\"><img src=\"https://colab.research.google.com/assets/colab-badge.svg\" alt=\"Open In Colab\"/></a>"
      ]
    },
    {
      "cell_type": "code",
      "execution_count": 1,
      "metadata": {
        "colab": {
          "base_uri": "https://localhost:8080/"
        },
        "id": "P9dTJQ00Xjkz",
        "outputId": "6fbed557-aa52-431d-ed87-4d61a62e0ff9"
      },
      "outputs": [
        {
          "output_type": "stream",
          "name": "stdout",
          "text": [
            "fatal: destination path 'Emotion-Recognition-in-Conversation' already exists and is not an empty directory.\n"
          ]
        }
      ],
      "source": [
        "!git clone https://github.com/SubhamIO/Emotion-Recognition-in-Conversation"
      ]
    },
    {
      "cell_type": "code",
      "source": [
        "path=\"/content/Emotion-Recognition-in-Conversation/data/MELD\""
      ],
      "metadata": {
        "id": "sXd6Cy0fXnYP"
      },
      "execution_count": 2,
      "outputs": []
    },
    {
      "cell_type": "code",
      "source": [
        "import nltk\n",
        "nltk.download('stopwords')\n",
        "\n",
        "import pandas as pd\n",
        "import seaborn as sns\n",
        "import numpy as np\n",
        "import xgboost as xgb\n",
        "from tqdm import tqdm\n",
        "from sklearn.svm import SVC\n",
        "from keras.models import Sequential\n",
        "from keras.layers import Dense, LSTM, Dropout, GRU, Bidirectional, Activation, Embedding, BatchNormalization"
      ],
      "metadata": {
        "colab": {
          "base_uri": "https://localhost:8080/"
        },
        "id": "q4_Gnm79YjHK",
        "outputId": "d3ceb4f9-505c-45f0-dd67-f5b8661ab218"
      },
      "execution_count": 3,
      "outputs": [
        {
          "output_type": "stream",
          "name": "stderr",
          "text": [
            "[nltk_data] Downloading package stopwords to /root/nltk_data...\n",
            "[nltk_data]   Package stopwords is already up-to-date!\n"
          ]
        }
      ]
    },
    {
      "cell_type": "code",
      "source": [
        "from keras.utils import np_utils\n",
        "from sklearn import preprocessing, decomposition, model_selection, metrics, pipeline\n",
        "from sklearn.model_selection import GridSearchCV\n",
        "from sklearn.feature_extraction.text import TfidfVectorizer, CountVectorizer\n",
        "from sklearn.decomposition import TruncatedSVD\n",
        "from sklearn.linear_model import LogisticRegression\n",
        "from sklearn.model_selection import train_test_split\n",
        "from sklearn.naive_bayes import MultinomialNB"
      ],
      "metadata": {
        "id": "km_kHvplcIVw"
      },
      "execution_count": 4,
      "outputs": []
    },
    {
      "cell_type": "code",
      "source": [
        "from keras.layers import GlobalMaxPooling1D, Conv1D, MaxPooling1D, Flatten, Bidirectional, SpatialDropout1D\n",
        "from keras.preprocessing import sequence, text\n",
        "from keras.callbacks import EarlyStopping\n",
        "from nltk import word_tokenize\n",
        "from nltk.corpus import stopwords\n",
        "stop_words = stopwords.words('english')"
      ],
      "metadata": {
        "id": "o8pcmCuCYnwU"
      },
      "execution_count": 5,
      "outputs": []
    },
    {
      "cell_type": "code",
      "source": [
        "train = pd.read_csv('/content/Emotion-Recognition-in-Conversation/data/MELD/train_sent_emo.csv')\n",
        "cv = pd.read_csv('/content/Emotion-Recognition-in-Conversation/data/MELD/dev_sent_emo.csv')\n",
        "test = pd.read_csv('/content/Emotion-Recognition-in-Conversation/data/MELD/test_sent_emo.csv')"
      ],
      "metadata": {
        "id": "05oGrtSPdgYg"
      },
      "execution_count": 6,
      "outputs": []
    },
    {
      "cell_type": "code",
      "source": [
        "train.shape, cv.shape , test.shape"
      ],
      "metadata": {
        "colab": {
          "base_uri": "https://localhost:8080/"
        },
        "id": "bHFkNlmmdyke",
        "outputId": "badedfff-f90a-4098-d4eb-6a78d2eff694"
      },
      "execution_count": 7,
      "outputs": [
        {
          "output_type": "execute_result",
          "data": {
            "text/plain": [
              "((9989, 11), (1109, 11), (2610, 11))"
            ]
          },
          "metadata": {},
          "execution_count": 7
        }
      ]
    },
    {
      "cell_type": "code",
      "source": [
        "train.columns"
      ],
      "metadata": {
        "colab": {
          "base_uri": "https://localhost:8080/"
        },
        "id": "zhpzM3TPd25X",
        "outputId": "898be8d4-6ba0-4caf-d953-03a6f8dee769"
      },
      "execution_count": 8,
      "outputs": [
        {
          "output_type": "execute_result",
          "data": {
            "text/plain": [
              "Index(['Sr No.', 'Utterance', 'Speaker', 'Emotion', 'Sentiment', 'Dialogue_ID',\n",
              "       'Utterance_ID', 'Season', 'Episode', 'StartTime', 'EndTime'],\n",
              "      dtype='object')"
            ]
          },
          "metadata": {},
          "execution_count": 8
        }
      ]
    },
    {
      "cell_type": "code",
      "source": [
        "cv.columns"
      ],
      "metadata": {
        "colab": {
          "base_uri": "https://localhost:8080/"
        },
        "id": "5QRqrB3cd5hb",
        "outputId": "460d0332-0f26-484a-ace2-866b5b5d2938"
      },
      "execution_count": 9,
      "outputs": [
        {
          "output_type": "execute_result",
          "data": {
            "text/plain": [
              "Index(['Sr No.', 'Utterance', 'Speaker', 'Emotion', 'Sentiment', 'Dialogue_ID',\n",
              "       'Utterance_ID', 'Season', 'Episode', 'StartTime', 'EndTime'],\n",
              "      dtype='object')"
            ]
          },
          "metadata": {},
          "execution_count": 9
        }
      ]
    },
    {
      "cell_type": "code",
      "source": [
        "test.columns"
      ],
      "metadata": {
        "colab": {
          "base_uri": "https://localhost:8080/"
        },
        "id": "wsnmFKFAd99F",
        "outputId": "00c36939-4fbc-41d5-ca8d-1cdcc0bba8a2"
      },
      "execution_count": 10,
      "outputs": [
        {
          "output_type": "execute_result",
          "data": {
            "text/plain": [
              "Index(['Sr No.', 'Utterance', 'Speaker', 'Emotion', 'Sentiment', 'Dialogue_ID',\n",
              "       'Utterance_ID', 'Season', 'Episode', 'StartTime', 'EndTime'],\n",
              "      dtype='object')"
            ]
          },
          "metadata": {},
          "execution_count": 10
        }
      ]
    },
    {
      "cell_type": "code",
      "source": [
        "train.head()"
      ],
      "metadata": {
        "colab": {
          "base_uri": "https://localhost:8080/",
          "height": 513
        },
        "id": "oToh1Ae3eAU1",
        "outputId": "bcce7366-538c-46df-aec8-6f48329a952d"
      },
      "execution_count": 11,
      "outputs": [
        {
          "output_type": "execute_result",
          "data": {
            "text/plain": [
              "   Sr No.                                          Utterance          Speaker  \\\n",
              "0       1  also I was the point person on my companys tr...         Chandler   \n",
              "1       2                   You mustve had your hands full.  The Interviewer   \n",
              "2       3                            That I did. That I did.         Chandler   \n",
              "3       4      So lets talk a little bit about your duties.  The Interviewer   \n",
              "4       5                             My duties?  All right.         Chandler   \n",
              "\n",
              "    Emotion Sentiment  Dialogue_ID  Utterance_ID  Season  Episode  \\\n",
              "0   neutral   neutral            0             0       8       21   \n",
              "1   neutral   neutral            0             1       8       21   \n",
              "2   neutral   neutral            0             2       8       21   \n",
              "3   neutral   neutral            0             3       8       21   \n",
              "4  surprise  positive            0             4       8       21   \n",
              "\n",
              "      StartTime       EndTime  \n",
              "0  00:16:16,059  00:16:21,731  \n",
              "1  00:16:21,940  00:16:23,442  \n",
              "2  00:16:23,442  00:16:26,389  \n",
              "3  00:16:26,820  00:16:29,572  \n",
              "4  00:16:34,452  00:16:40,917  "
            ],
            "text/html": [
              "\n",
              "  <div id=\"df-a0ebfeb2-0a83-490d-b1b8-4860c747d646\">\n",
              "    <div class=\"colab-df-container\">\n",
              "      <div>\n",
              "<style scoped>\n",
              "    .dataframe tbody tr th:only-of-type {\n",
              "        vertical-align: middle;\n",
              "    }\n",
              "\n",
              "    .dataframe tbody tr th {\n",
              "        vertical-align: top;\n",
              "    }\n",
              "\n",
              "    .dataframe thead th {\n",
              "        text-align: right;\n",
              "    }\n",
              "</style>\n",
              "<table border=\"1\" class=\"dataframe\">\n",
              "  <thead>\n",
              "    <tr style=\"text-align: right;\">\n",
              "      <th></th>\n",
              "      <th>Sr No.</th>\n",
              "      <th>Utterance</th>\n",
              "      <th>Speaker</th>\n",
              "      <th>Emotion</th>\n",
              "      <th>Sentiment</th>\n",
              "      <th>Dialogue_ID</th>\n",
              "      <th>Utterance_ID</th>\n",
              "      <th>Season</th>\n",
              "      <th>Episode</th>\n",
              "      <th>StartTime</th>\n",
              "      <th>EndTime</th>\n",
              "    </tr>\n",
              "  </thead>\n",
              "  <tbody>\n",
              "    <tr>\n",
              "      <th>0</th>\n",
              "      <td>1</td>\n",
              "      <td>also I was the point person on my companys tr...</td>\n",
              "      <td>Chandler</td>\n",
              "      <td>neutral</td>\n",
              "      <td>neutral</td>\n",
              "      <td>0</td>\n",
              "      <td>0</td>\n",
              "      <td>8</td>\n",
              "      <td>21</td>\n",
              "      <td>00:16:16,059</td>\n",
              "      <td>00:16:21,731</td>\n",
              "    </tr>\n",
              "    <tr>\n",
              "      <th>1</th>\n",
              "      <td>2</td>\n",
              "      <td>You mustve had your hands full.</td>\n",
              "      <td>The Interviewer</td>\n",
              "      <td>neutral</td>\n",
              "      <td>neutral</td>\n",
              "      <td>0</td>\n",
              "      <td>1</td>\n",
              "      <td>8</td>\n",
              "      <td>21</td>\n",
              "      <td>00:16:21,940</td>\n",
              "      <td>00:16:23,442</td>\n",
              "    </tr>\n",
              "    <tr>\n",
              "      <th>2</th>\n",
              "      <td>3</td>\n",
              "      <td>That I did. That I did.</td>\n",
              "      <td>Chandler</td>\n",
              "      <td>neutral</td>\n",
              "      <td>neutral</td>\n",
              "      <td>0</td>\n",
              "      <td>2</td>\n",
              "      <td>8</td>\n",
              "      <td>21</td>\n",
              "      <td>00:16:23,442</td>\n",
              "      <td>00:16:26,389</td>\n",
              "    </tr>\n",
              "    <tr>\n",
              "      <th>3</th>\n",
              "      <td>4</td>\n",
              "      <td>So lets talk a little bit about your duties.</td>\n",
              "      <td>The Interviewer</td>\n",
              "      <td>neutral</td>\n",
              "      <td>neutral</td>\n",
              "      <td>0</td>\n",
              "      <td>3</td>\n",
              "      <td>8</td>\n",
              "      <td>21</td>\n",
              "      <td>00:16:26,820</td>\n",
              "      <td>00:16:29,572</td>\n",
              "    </tr>\n",
              "    <tr>\n",
              "      <th>4</th>\n",
              "      <td>5</td>\n",
              "      <td>My duties?  All right.</td>\n",
              "      <td>Chandler</td>\n",
              "      <td>surprise</td>\n",
              "      <td>positive</td>\n",
              "      <td>0</td>\n",
              "      <td>4</td>\n",
              "      <td>8</td>\n",
              "      <td>21</td>\n",
              "      <td>00:16:34,452</td>\n",
              "      <td>00:16:40,917</td>\n",
              "    </tr>\n",
              "  </tbody>\n",
              "</table>\n",
              "</div>\n",
              "      <button class=\"colab-df-convert\" onclick=\"convertToInteractive('df-a0ebfeb2-0a83-490d-b1b8-4860c747d646')\"\n",
              "              title=\"Convert this dataframe to an interactive table.\"\n",
              "              style=\"display:none;\">\n",
              "        \n",
              "  <svg xmlns=\"http://www.w3.org/2000/svg\" height=\"24px\"viewBox=\"0 0 24 24\"\n",
              "       width=\"24px\">\n",
              "    <path d=\"M0 0h24v24H0V0z\" fill=\"none\"/>\n",
              "    <path d=\"M18.56 5.44l.94 2.06.94-2.06 2.06-.94-2.06-.94-.94-2.06-.94 2.06-2.06.94zm-11 1L8.5 8.5l.94-2.06 2.06-.94-2.06-.94L8.5 2.5l-.94 2.06-2.06.94zm10 10l.94 2.06.94-2.06 2.06-.94-2.06-.94-.94-2.06-.94 2.06-2.06.94z\"/><path d=\"M17.41 7.96l-1.37-1.37c-.4-.4-.92-.59-1.43-.59-.52 0-1.04.2-1.43.59L10.3 9.45l-7.72 7.72c-.78.78-.78 2.05 0 2.83L4 21.41c.39.39.9.59 1.41.59.51 0 1.02-.2 1.41-.59l7.78-7.78 2.81-2.81c.8-.78.8-2.07 0-2.86zM5.41 20L4 18.59l7.72-7.72 1.47 1.35L5.41 20z\"/>\n",
              "  </svg>\n",
              "      </button>\n",
              "      \n",
              "  <style>\n",
              "    .colab-df-container {\n",
              "      display:flex;\n",
              "      flex-wrap:wrap;\n",
              "      gap: 12px;\n",
              "    }\n",
              "\n",
              "    .colab-df-convert {\n",
              "      background-color: #E8F0FE;\n",
              "      border: none;\n",
              "      border-radius: 50%;\n",
              "      cursor: pointer;\n",
              "      display: none;\n",
              "      fill: #1967D2;\n",
              "      height: 32px;\n",
              "      padding: 0 0 0 0;\n",
              "      width: 32px;\n",
              "    }\n",
              "\n",
              "    .colab-df-convert:hover {\n",
              "      background-color: #E2EBFA;\n",
              "      box-shadow: 0px 1px 2px rgba(60, 64, 67, 0.3), 0px 1px 3px 1px rgba(60, 64, 67, 0.15);\n",
              "      fill: #174EA6;\n",
              "    }\n",
              "\n",
              "    [theme=dark] .colab-df-convert {\n",
              "      background-color: #3B4455;\n",
              "      fill: #D2E3FC;\n",
              "    }\n",
              "\n",
              "    [theme=dark] .colab-df-convert:hover {\n",
              "      background-color: #434B5C;\n",
              "      box-shadow: 0px 1px 3px 1px rgba(0, 0, 0, 0.15);\n",
              "      filter: drop-shadow(0px 1px 2px rgba(0, 0, 0, 0.3));\n",
              "      fill: #FFFFFF;\n",
              "    }\n",
              "  </style>\n",
              "\n",
              "      <script>\n",
              "        const buttonEl =\n",
              "          document.querySelector('#df-a0ebfeb2-0a83-490d-b1b8-4860c747d646 button.colab-df-convert');\n",
              "        buttonEl.style.display =\n",
              "          google.colab.kernel.accessAllowed ? 'block' : 'none';\n",
              "\n",
              "        async function convertToInteractive(key) {\n",
              "          const element = document.querySelector('#df-a0ebfeb2-0a83-490d-b1b8-4860c747d646');\n",
              "          const dataTable =\n",
              "            await google.colab.kernel.invokeFunction('convertToInteractive',\n",
              "                                                     [key], {});\n",
              "          if (!dataTable) return;\n",
              "\n",
              "          const docLinkHtml = 'Like what you see? Visit the ' +\n",
              "            '<a target=\"_blank\" href=https://colab.research.google.com/notebooks/data_table.ipynb>data table notebook</a>'\n",
              "            + ' to learn more about interactive tables.';\n",
              "          element.innerHTML = '';\n",
              "          dataTable['output_type'] = 'display_data';\n",
              "          await google.colab.output.renderOutput(dataTable, element);\n",
              "          const docLink = document.createElement('div');\n",
              "          docLink.innerHTML = docLinkHtml;\n",
              "          element.appendChild(docLink);\n",
              "        }\n",
              "      </script>\n",
              "    </div>\n",
              "  </div>\n",
              "  "
            ]
          },
          "metadata": {},
          "execution_count": 11
        }
      ]
    },
    {
      "cell_type": "code",
      "source": [
        "\n",
        "#Imbalanced Data\n",
        "ax = sns.countplot(x=train['Emotion'], data=train)\n",
        "print(train['Emotion'].value_counts())"
      ],
      "metadata": {
        "colab": {
          "base_uri": "https://localhost:8080/",
          "height": 418
        },
        "id": "9NDOm7zfeEXA",
        "outputId": "2d673ec1-8f07-4b6d-9847-4bc9cb86f83d"
      },
      "execution_count": 12,
      "outputs": [
        {
          "output_type": "stream",
          "name": "stdout",
          "text": [
            "neutral     4710\n",
            "joy         1743\n",
            "surprise    1205\n",
            "anger       1109\n",
            "sadness      683\n",
            "disgust      271\n",
            "fear         268\n",
            "Name: Emotion, dtype: int64\n"
          ]
        },
        {
          "output_type": "display_data",
          "data": {
            "text/plain": [
              "<Figure size 432x288 with 1 Axes>"
            ],
            "image/png": "[encoded data removed]"
          },
          "metadata": {
            "needs_background": "light"
          }
        }
      ]
    },
    {
      "cell_type": "code",
      "source": [
        "#Imbalanced Data\n",
        "ax = sns.countplot(x=cv['Emotion'], data=cv)\n",
        "print(cv['Emotion'].value_counts())"
      ],
      "metadata": {
        "colab": {
          "base_uri": "https://localhost:8080/",
          "height": 418
        },
        "id": "wKQ2nq28eIHD",
        "outputId": "6fdc4d95-8179-469c-8388-d469393deeb2"
      },
      "execution_count": 13,
      "outputs": [
        {
          "output_type": "stream",
          "name": "stdout",
          "text": [
            "neutral     470\n",
            "joy         163\n",
            "anger       153\n",
            "surprise    150\n",
            "sadness     111\n",
            "fear         40\n",
            "disgust      22\n",
            "Name: Emotion, dtype: int64\n"
          ]
        },
        {
          "output_type": "display_data",
          "data": {
            "text/plain": [
              "<Figure size 432x288 with 1 Axes>"
            ],
            "image/png": "[encoded data removed]"
          },
          "metadata": {
            "needs_background": "light"
          }
        }
      ]
    },
    {
      "cell_type": "code",
      "source": [
        "#Imbalanced Data\n",
        "ax = sns.countplot(x=test['Emotion'], data=test)\n",
        "print(test['Emotion'].value_counts())"
      ],
      "metadata": {
        "colab": {
          "base_uri": "https://localhost:8080/",
          "height": 418
        },
        "id": "MrY8srfieLyu",
        "outputId": "beeb4c6a-b25c-4789-8895-86b4fa70417d"
      },
      "execution_count": 14,
      "outputs": [
        {
          "output_type": "stream",
          "name": "stdout",
          "text": [
            "neutral     1256\n",
            "joy          402\n",
            "anger        345\n",
            "surprise     281\n",
            "sadness      208\n",
            "disgust       68\n",
            "fear          50\n",
            "Name: Emotion, dtype: int64\n"
          ]
        },
        {
          "output_type": "display_data",
          "data": {
            "text/plain": [
              "<Figure size 432x288 with 1 Axes>"
            ],
            "image/png": "[encoded data removed]"
          },
          "metadata": {
            "needs_background": "light"
          }
        }
      ]
    },
    {
      "cell_type": "code",
      "source": [
        "train.info() #No nulls"
      ],
      "metadata": {
        "colab": {
          "base_uri": "https://localhost:8080/"
        },
        "id": "phd9-1f3ePWQ",
        "outputId": "00c72e87-2e14-4139-b441-b0b28b707d3f"
      },
      "execution_count": 15,
      "outputs": [
        {
          "output_type": "stream",
          "name": "stdout",
          "text": [
            "<class 'pandas.core.frame.DataFrame'>\n",
            "RangeIndex: 9989 entries, 0 to 9988\n",
            "Data columns (total 11 columns):\n",
            " #   Column        Non-Null Count  Dtype \n",
            "---  ------        --------------  ----- \n",
            " 0   Sr No.        9989 non-null   int64 \n",
            " 1   Utterance     9989 non-null   object\n",
            " 2   Speaker       9989 non-null   object\n",
            " 3   Emotion       9989 non-null   object\n",
            " 4   Sentiment     9989 non-null   object\n",
            " 5   Dialogue_ID   9989 non-null   int64 \n",
            " 6   Utterance_ID  9989 non-null   int64 \n",
            " 7   Season        9989 non-null   int64 \n",
            " 8   Episode       9989 non-null   int64 \n",
            " 9   StartTime     9989 non-null   object\n",
            " 10  EndTime       9989 non-null   object\n",
            "dtypes: int64(5), object(6)\n",
            "memory usage: 858.6+ KB\n"
          ]
        }
      ]
    },
    {
      "cell_type": "code",
      "source": [
        "cv.info()  #No nulls"
      ],
      "metadata": {
        "colab": {
          "base_uri": "https://localhost:8080/"
        },
        "id": "E0MxzMk6eTmS",
        "outputId": "5d74968f-709b-4023-cb21-e9c9c71e90fd"
      },
      "execution_count": 16,
      "outputs": [
        {
          "output_type": "stream",
          "name": "stdout",
          "text": [
            "<class 'pandas.core.frame.DataFrame'>\n",
            "RangeIndex: 1109 entries, 0 to 1108\n",
            "Data columns (total 11 columns):\n",
            " #   Column        Non-Null Count  Dtype \n",
            "---  ------        --------------  ----- \n",
            " 0   Sr No.        1109 non-null   int64 \n",
            " 1   Utterance     1109 non-null   object\n",
            " 2   Speaker       1109 non-null   object\n",
            " 3   Emotion       1109 non-null   object\n",
            " 4   Sentiment     1109 non-null   object\n",
            " 5   Dialogue_ID   1109 non-null   int64 \n",
            " 6   Utterance_ID  1109 non-null   int64 \n",
            " 7   Season        1109 non-null   int64 \n",
            " 8   Episode       1109 non-null   int64 \n",
            " 9   StartTime     1109 non-null   object\n",
            " 10  EndTime       1109 non-null   object\n",
            "dtypes: int64(5), object(6)\n",
            "memory usage: 95.4+ KB\n"
          ]
        }
      ]
    },
    {
      "cell_type": "code",
      "source": [
        "test.info()  #No nulls"
      ],
      "metadata": {
        "colab": {
          "base_uri": "https://localhost:8080/"
        },
        "id": "OHGsgidIeW0j",
        "outputId": "b34a9623-2d33-437d-fcb5-b35a2bf949e4"
      },
      "execution_count": 17,
      "outputs": [
        {
          "output_type": "stream",
          "name": "stdout",
          "text": [
            "<class 'pandas.core.frame.DataFrame'>\n",
            "RangeIndex: 2610 entries, 0 to 2609\n",
            "Data columns (total 11 columns):\n",
            " #   Column        Non-Null Count  Dtype \n",
            "---  ------        --------------  ----- \n",
            " 0   Sr No.        2610 non-null   int64 \n",
            " 1   Utterance     2610 non-null   object\n",
            " 2   Speaker       2610 non-null   object\n",
            " 3   Emotion       2610 non-null   object\n",
            " 4   Sentiment     2610 non-null   object\n",
            " 5   Dialogue_ID   2610 non-null   int64 \n",
            " 6   Utterance_ID  2610 non-null   int64 \n",
            " 7   Season        2610 non-null   int64 \n",
            " 8   Episode       2610 non-null   int64 \n",
            " 9   StartTime     2610 non-null   object\n",
            " 10  EndTime       2610 non-null   object\n",
            "dtypes: int64(5), object(6)\n",
            "memory usage: 224.4+ KB\n"
          ]
        }
      ]
    },
    {
      "cell_type": "code",
      "source": [
        "X_train , y_train = train[['Utterance']] , train[['Emotion']]\n",
        "X_cv , y_cv = cv[['Utterance']] , cv[['Emotion']]\n",
        "X_test , y_test = test[['Utterance']] , test[['Emotion']]"
      ],
      "metadata": {
        "id": "LwWGnF8HeazO"
      },
      "execution_count": 18,
      "outputs": []
    },
    {
      "cell_type": "code",
      "source": [
        "def multiclass_logloss(actual, predicted, eps=1e-15):\n",
        "    \"\"\"Multi class version of Logarithmic Loss metric.\n",
        "    :param actual: Array containing the actual target classes\n",
        "    :param predicted: Matrix with class predictions, one probability per class\n",
        "    \"\"\"\n",
        "    # Convert 'actual' to a binary array if it's not already:\n",
        "    if len(actual.shape) == 1:\n",
        "        actual2 = np.zeros((actual.shape[0], predicted.shape[1]))\n",
        "        for i, val in enumerate(actual):\n",
        "            actual2[i, val] = 1\n",
        "        actual = actual2\n",
        "\n",
        "    clip = np.clip(predicted, eps, 1 - eps)\n",
        "    rows = actual.shape[0]\n",
        "    vsota = np.sum(actual * np.log(clip))\n",
        "    return -1.0 / rows * vsota"
      ],
      "metadata": {
        "id": "zS6yr7zqee4G"
      },
      "execution_count": 19,
      "outputs": []
    },
    {
      "cell_type": "code",
      "source": [
        "mll_scorer = metrics.make_scorer(multiclass_logloss, greater_is_better=False, needs_proba=True)"
      ],
      "metadata": {
        "id": "ZLXzwYu9eijl"
      },
      "execution_count": 20,
      "outputs": []
    },
    {
      "cell_type": "code",
      "source": [
        "lbl_enc = preprocessing.LabelEncoder()\n",
        "y_train_enc = lbl_enc.fit_transform(y_train.Emotion.values)\n",
        "y_cv_enc = lbl_enc.transform(y_cv.Emotion.values)\n",
        "y_test_enc = lbl_enc.transform(y_test.Emotion.values)"
      ],
      "metadata": {
        "id": "0SmPiK1OemXV"
      },
      "execution_count": 21,
      "outputs": []
    },
    {
      "cell_type": "code",
      "source": [
        "y_train.Emotion.values[1:200]"
      ],
      "metadata": {
        "colab": {
          "base_uri": "https://localhost:8080/"
        },
        "id": "Sc8XGATiepLC",
        "outputId": "e35614cb-b9d1-4820-9e4a-6319b7880084"
      },
      "execution_count": 22,
      "outputs": [
        {
          "output_type": "execute_result",
          "data": {
            "text/plain": [
              "array(['neutral', 'neutral', 'neutral', 'surprise', 'neutral', 'neutral',\n",
              "       'neutral', 'neutral', 'neutral', 'fear', 'neutral', 'surprise',\n",
              "       'neutral', 'surprise', 'sadness', 'surprise', 'fear', 'neutral',\n",
              "       'neutral', 'neutral', 'neutral', 'neutral', 'joy', 'sadness',\n",
              "       'surprise', 'neutral', 'disgust', 'sadness', 'neutral', 'neutral',\n",
              "       'joy', 'neutral', 'joy', 'surprise', 'surprise', 'surprise',\n",
              "       'neutral', 'neutral', 'neutral', 'surprise', 'sadness', 'neutral',\n",
              "       'surprise', 'joy', 'surprise', 'neutral', 'neutral', 'neutral',\n",
              "       'neutral', 'neutral', 'joy', 'joy', 'joy', 'sadness', 'neutral',\n",
              "       'neutral', 'neutral', 'neutral', 'neutral', 'neutral', 'surprise',\n",
              "       'joy', 'surprise', 'joy', 'neutral', 'neutral', 'anger', 'joy',\n",
              "       'neutral', 'surprise', 'anger', 'anger', 'anger', 'neutral',\n",
              "       'neutral', 'sadness', 'sadness', 'sadness', 'surprise', 'anger',\n",
              "       'anger', 'anger', 'anger', 'neutral', 'anger', 'neutral',\n",
              "       'neutral', 'neutral', 'neutral', 'joy', 'neutral', 'joy',\n",
              "       'neutral', 'neutral', 'neutral', 'joy', 'neutral', 'neutral',\n",
              "       'neutral', 'neutral', 'neutral', 'joy', 'neutral', 'neutral',\n",
              "       'disgust', 'anger', 'anger', 'anger', 'anger', 'anger', 'anger',\n",
              "       'neutral', 'neutral', 'anger', 'neutral', 'joy', 'neutral',\n",
              "       'neutral', 'joy', 'joy', 'joy', 'joy', 'neutral', 'joy', 'disgust',\n",
              "       'surprise', 'disgust', 'neutral', 'fear', 'neutral', 'surprise',\n",
              "       'fear', 'disgust', 'anger', 'joy', 'neutral', 'surprise',\n",
              "       'neutral', 'neutral', 'neutral', 'neutral', 'surprise', 'neutral',\n",
              "       'neutral', 'anger', 'neutral', 'neutral', 'sadness', 'surprise',\n",
              "       'sadness', 'anger', 'sadness', 'neutral', 'sadness', 'neutral',\n",
              "       'neutral', 'neutral', 'neutral', 'neutral', 'joy', 'anger',\n",
              "       'anger', 'anger', 'neutral', 'anger', 'joy', 'joy', 'joy', 'joy',\n",
              "       'disgust', 'surprise', 'neutral', 'neutral', 'anger', 'joy',\n",
              "       'neutral', 'neutral', 'fear', 'neutral', 'fear', 'joy', 'joy',\n",
              "       'joy', 'joy', 'neutral', 'neutral', 'neutral', 'joy', 'neutral',\n",
              "       'joy', 'fear', 'neutral', 'sadness', 'surprise', 'fear', 'neutral',\n",
              "       'neutral', 'neutral', 'joy'], dtype=object)"
            ]
          },
          "metadata": {},
          "execution_count": 22
        }
      ]
    },
    {
      "cell_type": "code",
      "source": [
        "y_train_enc[1:200]"
      ],
      "metadata": {
        "colab": {
          "base_uri": "https://localhost:8080/"
        },
        "id": "YjfmN8b_etnx",
        "outputId": "d8710b6a-541d-46b5-e9eb-836ae2a7c840"
      },
      "execution_count": 23,
      "outputs": [
        {
          "output_type": "execute_result",
          "data": {
            "text/plain": [
              "array([4, 4, 4, 6, 4, 4, 4, 4, 4, 2, 4, 6, 4, 6, 5, 6, 2, 4, 4, 4, 4, 4,\n",
              "       3, 5, 6, 4, 1, 5, 4, 4, 3, 4, 3, 6, 6, 6, 4, 4, 4, 6, 5, 4, 6, 3,\n",
              "       6, 4, 4, 4, 4, 4, 3, 3, 3, 5, 4, 4, 4, 4, 4, 4, 6, 3, 6, 3, 4, 4,\n",
              "       0, 3, 4, 6, 0, 0, 0, 4, 4, 5, 5, 5, 6, 0, 0, 0, 0, 4, 0, 4, 4, 4,\n",
              "       4, 3, 4, 3, 4, 4, 4, 3, 4, 4, 4, 4, 4, 3, 4, 4, 1, 0, 0, 0, 0, 0,\n",
              "       0, 4, 4, 0, 4, 3, 4, 4, 3, 3, 3, 3, 4, 3, 1, 6, 1, 4, 2, 4, 6, 2,\n",
              "       1, 0, 3, 4, 6, 4, 4, 4, 4, 6, 4, 4, 0, 4, 4, 5, 6, 5, 0, 5, 4, 5,\n",
              "       4, 4, 4, 4, 4, 3, 0, 0, 0, 4, 0, 3, 3, 3, 3, 1, 6, 4, 4, 0, 3, 4,\n",
              "       4, 2, 4, 2, 3, 3, 3, 3, 4, 4, 4, 3, 4, 3, 2, 4, 5, 6, 2, 4, 4, 4,\n",
              "       3])"
            ]
          },
          "metadata": {},
          "execution_count": 23
        }
      ]
    },
    {
      "cell_type": "code",
      "source": [
        "import re\n",
        "\n",
        "### Dataset Preprocessing training set\n",
        "from nltk.stem.porter import PorterStemmer\n",
        "ps = PorterStemmer()\n",
        "train_corpus = []\n",
        "for i in range(0, len(X_train)):\n",
        "    review = re.sub('[^a-zA-Z]', ' ', X_train['Utterance'][i])\n",
        "    review = review.lower()\n",
        "    review = review.split()\n",
        "    \n",
        "    review = [ps.stem(word) for word in review if not word in stopwords.words('english')]\n",
        "    review = ' '.join(review)\n",
        "    train_corpus.append(review)"
      ],
      "metadata": {
        "id": "ur13f8rNexrJ"
      },
      "execution_count": 24,
      "outputs": []
    },
    {
      "cell_type": "code",
      "source": [
        "import re\n",
        "\n",
        "### Dataset Preprocessing cv set\n",
        "from nltk.stem.porter import PorterStemmer\n",
        "ps = PorterStemmer()\n",
        "cv_corpus = []\n",
        "for i in range(0, len(X_cv)):\n",
        "    review = re.sub('[^a-zA-Z]', ' ', X_cv['Utterance'][i])\n",
        "    review = review.lower()\n",
        "    review = review.split()\n",
        "    \n",
        "    review = [ps.stem(word) for word in review if not word in stopwords.words('english')]\n",
        "    review = ' '.join(review)\n",
        "    cv_corpus.append(review)"
      ],
      "metadata": {
        "id": "1YoEPp13e1mW"
      },
      "execution_count": 25,
      "outputs": []
    },
    {
      "cell_type": "code",
      "source": [
        "import re\n",
        "\n",
        "### Dataset Preprocessing test set\n",
        "from nltk.stem.porter import PorterStemmer\n",
        "ps = PorterStemmer()\n",
        "test_corpus = []\n",
        "for i in range(0, len(X_test)):\n",
        "    review = re.sub('[^a-zA-Z]', ' ', X_test['Utterance'][i])\n",
        "    review = review.lower()\n",
        "    review = review.split()\n",
        "    \n",
        "    review = [ps.stem(word) for word in review if not word in stopwords.words('english')]\n",
        "    review = ' '.join(review)\n",
        "    test_corpus.append(review)\n",
        "     "
      ],
      "metadata": {
        "id": "GVCzi86je5ls"
      },
      "execution_count": 26,
      "outputs": []
    },
    {
      "cell_type": "code",
      "source": [
        "X_train['clean_utterance'] = train_corpus\n",
        "X_train.drop('Utterance',axis=1,inplace=True)"
      ],
      "metadata": {
        "colab": {
          "base_uri": "https://localhost:8080/"
        },
        "id": "bFud_mHWe89o",
        "outputId": "6e8400ff-e566-4ed4-d1d6-b5673c788051"
      },
      "execution_count": 27,
      "outputs": [
        {
          "output_type": "stream",
          "name": "stderr",
          "text": [
            "<ipython-input-27-879f84db78d3>:1: SettingWithCopyWarning: \n",
            "A value is trying to be set on a copy of a slice from a DataFrame.\n",
            "Try using .loc[row_indexer,col_indexer] = value instead\n",
            "\n",
            "See the caveats in the documentation: https://pandas.pydata.org/pandas-docs/stable/user_guide/indexing.html#returning-a-view-versus-a-copy\n",
            "  X_train['clean_utterance'] = train_corpus\n",
            "/usr/local/lib/python3.9/dist-packages/pandas/core/frame.py:4906: SettingWithCopyWarning: \n",
            "A value is trying to be set on a copy of a slice from a DataFrame\n",
            "\n",
            "See the caveats in the documentation: https://pandas.pydata.org/pandas-docs/stable/user_guide/indexing.html#returning-a-view-versus-a-copy\n",
            "  return super().drop(\n"
          ]
        }
      ]
    },
    {
      "cell_type": "code",
      "source": [
        "X_cv['clean_utterance'] = cv_corpus\n",
        "X_cv.drop('Utterance',axis=1,inplace=True)"
      ],
      "metadata": {
        "colab": {
          "base_uri": "https://localhost:8080/"
        },
        "id": "hZ0nFawsfAPQ",
        "outputId": "e455ac22-0c1a-48f6-d6a3-19b2a68d34a7"
      },
      "execution_count": 28,
      "outputs": [
        {
          "output_type": "stream",
          "name": "stderr",
          "text": [
            "<ipython-input-28-f71b4cedf913>:1: SettingWithCopyWarning: \n",
            "A value is trying to be set on a copy of a slice from a DataFrame.\n",
            "Try using .loc[row_indexer,col_indexer] = value instead\n",
            "\n",
            "See the caveats in the documentation: https://pandas.pydata.org/pandas-docs/stable/user_guide/indexing.html#returning-a-view-versus-a-copy\n",
            "  X_cv['clean_utterance'] = cv_corpus\n"
          ]
        }
      ]
    },
    {
      "cell_type": "code",
      "source": [
        "X_test['clean_utterance'] = test_corpus\n",
        "X_test.drop('Utterance',axis=1,inplace=True)"
      ],
      "metadata": {
        "colab": {
          "base_uri": "https://localhost:8080/"
        },
        "id": "Dx2sl_pWfDZ6",
        "outputId": "ec71b3a2-bc95-48b2-bb5d-cc9310fd9120"
      },
      "execution_count": 29,
      "outputs": [
        {
          "output_type": "stream",
          "name": "stderr",
          "text": [
            "<ipython-input-29-edd2d281ca5b>:1: SettingWithCopyWarning: \n",
            "A value is trying to be set on a copy of a slice from a DataFrame.\n",
            "Try using .loc[row_indexer,col_indexer] = value instead\n",
            "\n",
            "See the caveats in the documentation: https://pandas.pydata.org/pandas-docs/stable/user_guide/indexing.html#returning-a-view-versus-a-copy\n",
            "  X_test['clean_utterance'] = test_corpus\n"
          ]
        }
      ]
    },
    {
      "cell_type": "code",
      "source": [
        "tfv = TfidfVectorizer(min_df=3,  max_features=None, \n",
        "            strip_accents='unicode', analyzer='word',token_pattern=r'\\w{1,}',\n",
        "            ngram_range=(1, 3), use_idf=1,smooth_idf=1,sublinear_tf=1,\n",
        "            stop_words = 'english')\n",
        "\n",
        "# Fitting TF-IDF to both training and test sets (semi-supervised learning)\n",
        "tfv.fit(list(X_train['clean_utterance']) + list(X_cv['clean_utterance']) + list(X_test['clean_utterance']))\n",
        "X_train_tfv =  tfv.transform(X_train['clean_utterance']) \n",
        "X_valid_tfv = tfv.transform(X_cv['clean_utterance'])\n",
        "X_test_tfv = tfv.transform(X_test['clean_utterance'])"
      ],
      "metadata": {
        "colab": {
          "base_uri": "https://localhost:8080/"
        },
        "id": "bARe1XpGfHwE",
        "outputId": "ea9d64dc-bcf0-4611-9683-3050075a4339"
      },
      "execution_count": 30,
      "outputs": [
        {
          "output_type": "stream",
          "name": "stderr",
          "text": [
            "/usr/local/lib/python3.9/dist-packages/sklearn/utils/_param_validation.py:541: FutureWarning: Passing an int for a boolean parameter is deprecated in version 1.2 and won't be supported anymore in version 1.4.\n",
            "  warnings.warn(\n"
          ]
        }
      ]
    },
    {
      "cell_type": "code",
      "source": [
        "X_train_tfv.shape,X_valid_tfv.shape,X_test_tfv.shape"
      ],
      "metadata": {
        "colab": {
          "base_uri": "https://localhost:8080/"
        },
        "id": "2bYsm-J3fNx7",
        "outputId": "e7a151f8-d495-4a1f-db23-d698a3f05b88"
      },
      "execution_count": 31,
      "outputs": [
        {
          "output_type": "execute_result",
          "data": {
            "text/plain": [
              "((9989, 3179), (1109, 3179), (2610, 3179))"
            ]
          },
          "metadata": {},
          "execution_count": 31
        }
      ]
    },
    {
      "cell_type": "code",
      "source": [
        "from sklearn.linear_model import LogisticRegression\n",
        "from sklearn.model_selection import GridSearchCV\n",
        "from sklearn.metrics import roc_auc_score\n",
        "\n",
        "\n",
        "alpha = [10 ** x for x in range(-6, 3)]\n",
        "\n",
        "\n",
        "# initialize Our first RandomForestRegressor model...\n",
        "regr2 = LogisticRegression()\n",
        "\n",
        "# declare parameters for hyperparameter tuning\n",
        "parameters = {'C':alpha} \n",
        "\n",
        "# Perform cross validation \n",
        "clf = GridSearchCV(regr2,\n",
        "                    param_grid = parameters,\n",
        "                    scoring=mll_scorer,\n",
        "                    n_jobs = -1,\n",
        "                    verbose = 10, refit=True, cv=2)\n",
        "result = clf.fit(X_train_tfv, y_train_enc)\n",
        "\n",
        "# Summarize results\n",
        "print(\"Best: %f using %s\" % (result.best_score_, result.best_params_))\n",
        "means = result.cv_results_['mean_test_score']\n",
        "stds = result.cv_results_['std_test_score']\n",
        "params = result.cv_results_['params']\n",
        "for mean, stdev, param in zip(means, stds, params):\n",
        "    print(\"%f 1(%f) with: %r\" % (mean, stdev, param))"
      ],
      "metadata": {
        "colab": {
          "base_uri": "https://localhost:8080/"
        },
        "id": "voSGzDpLfRhc",
        "outputId": "3cf6d6d4-14ab-4efc-aa2b-fc23a4e1f177"
      },
      "execution_count": 32,
      "outputs": [
        {
          "output_type": "stream",
          "name": "stdout",
          "text": [
            "Fitting 2 folds for each of 9 candidates, totalling 18 fits\n",
            "Best: -1.417605 using {'C': 1}\n",
            "-1.536665 1(0.000177) with: {'C': 1e-06}\n",
            "-1.536648 1(0.000177) with: {'C': 1e-05}\n",
            "-1.536480 1(0.000177) with: {'C': 0.0001}\n",
            "-1.534834 1(0.000178) with: {'C': 0.001}\n",
            "-1.520896 1(0.000221) with: {'C': 0.01}\n",
            "-1.463340 1(0.000332) with: {'C': 0.1}\n",
            "-1.417605 1(0.004722) with: {'C': 1}\n",
            "-1.622374 1(0.001400) with: {'C': 10}\n",
            "-2.300198 1(0.032855) with: {'C': 100}\n"
          ]
        },
        {
          "output_type": "stream",
          "name": "stderr",
          "text": [
            "/usr/local/lib/python3.9/dist-packages/sklearn/linear_model/_logistic.py:458: ConvergenceWarning: lbfgs failed to converge (status=1):\n",
            "STOP: TOTAL NO. of ITERATIONS REACHED LIMIT.\n",
            "\n",
            "Increase the number of iterations (max_iter) or scale the data as shown in:\n",
            "    https://scikit-learn.org/stable/modules/preprocessing.html\n",
            "Please also refer to the documentation for alternative solver options:\n",
            "    https://scikit-learn.org/stable/modules/linear_model.html#logistic-regression\n",
            "  n_iter_i = _check_optimize_result(\n"
          ]
        }
      ]
    },
    {
      "cell_type": "code",
      "source": [
        "lr = LogisticRegression(C = 1)\n",
        "lr.fit(X_train_tfv, y_train_enc)"
      ],
      "metadata": {
        "colab": {
          "base_uri": "https://localhost:8080/",
          "height": 233
        },
        "id": "ckT_Wsc4f1cu",
        "outputId": "56758b7e-a5e9-4ee3-c571-0253448d1a9d"
      },
      "execution_count": 33,
      "outputs": [
        {
          "output_type": "stream",
          "name": "stderr",
          "text": [
            "/usr/local/lib/python3.9/dist-packages/sklearn/linear_model/_logistic.py:458: ConvergenceWarning: lbfgs failed to converge (status=1):\n",
            "STOP: TOTAL NO. of ITERATIONS REACHED LIMIT.\n",
            "\n",
            "Increase the number of iterations (max_iter) or scale the data as shown in:\n",
            "    https://scikit-learn.org/stable/modules/preprocessing.html\n",
            "Please also refer to the documentation for alternative solver options:\n",
            "    https://scikit-learn.org/stable/modules/linear_model.html#logistic-regression\n",
            "  n_iter_i = _check_optimize_result(\n"
          ]
        },
        {
          "output_type": "execute_result",
          "data": {
            "text/plain": [
              "LogisticRegression(C=1)"
            ],
            "text/html": [
              "<style>#sk-container-id-1 {color: black;background-color: white;}#sk-container-id-1 pre{padding: 0;}#sk-container-id-1 div.sk-toggleable {background-color: white;}#sk-container-id-1 label.sk-toggleable__label {cursor: pointer;display: block;width: 100%;margin-bottom: 0;padding: 0.3em;box-sizing: border-box;text-align: center;}#sk-container-id-1 label.sk-toggleable__label-arrow:before {content: \"▸\";float: left;margin-right: 0.25em;color: #696969;}#sk-container-id-1 label.sk-toggleable__label-arrow:hover:before {color: black;}#sk-container-id-1 div.sk-estimator:hover label.sk-toggleable__label-arrow:before {color: black;}#sk-container-id-1 div.sk-toggleable__content {max-height: 0;max-width: 0;overflow: hidden;text-align: left;background-color: #f0f8ff;}#sk-container-id-1 div.sk-toggleable__content pre {margin: 0.2em;color: black;border-radius: 0.25em;background-color: #f0f8ff;}#sk-container-id-1 input.sk-toggleable__control:checked~div.sk-toggleable__content {max-height: 200px;max-width: 100%;overflow: auto;}#sk-container-id-1 input.sk-toggleable__control:checked~label.sk-toggleable__label-arrow:before {content: \"▾\";}#sk-container-id-1 div.sk-estimator input.sk-toggleable__control:checked~label.sk-toggleable__label {background-color: #d4ebff;}#sk-container-id-1 div.sk-label input.sk-toggleable__control:checked~label.sk-toggleable__label {background-color: #d4ebff;}#sk-container-id-1 input.sk-hidden--visually {border: 0;clip: rect(1px 1px 1px 1px);clip: rect(1px, 1px, 1px, 1px);height: 1px;margin: -1px;overflow: hidden;padding: 0;position: absolute;width: 1px;}#sk-container-id-1 div.sk-estimator {font-family: monospace;background-color: #f0f8ff;border: 1px dotted black;border-radius: 0.25em;box-sizing: border-box;margin-bottom: 0.5em;}#sk-container-id-1 div.sk-estimator:hover {background-color: #d4ebff;}#sk-container-id-1 div.sk-parallel-item::after {content: \"\";width: 100%;border-bottom: 1px solid gray;flex-grow: 1;}#sk-container-id-1 div.sk-label:hover label.sk-toggleable__label {background-color: #d4ebff;}#sk-container-id-1 div.sk-serial::before {content: \"\";position: absolute;border-left: 1px solid gray;box-sizing: border-box;top: 0;bottom: 0;left: 50%;z-index: 0;}#sk-container-id-1 div.sk-serial {display: flex;flex-direction: column;align-items: center;background-color: white;padding-right: 0.2em;padding-left: 0.2em;position: relative;}#sk-container-id-1 div.sk-item {position: relative;z-index: 1;}#sk-container-id-1 div.sk-parallel {display: flex;align-items: stretch;justify-content: center;background-color: white;position: relative;}#sk-container-id-1 div.sk-item::before, #sk-container-id-1 div.sk-parallel-item::before {content: \"\";position: absolute;border-left: 1px solid gray;box-sizing: border-box;top: 0;bottom: 0;left: 50%;z-index: -1;}#sk-container-id-1 div.sk-parallel-item {display: flex;flex-direction: column;z-index: 1;position: relative;background-color: white;}#sk-container-id-1 div.sk-parallel-item:first-child::after {align-self: flex-end;width: 50%;}#sk-container-id-1 div.sk-parallel-item:last-child::after {align-self: flex-start;width: 50%;}#sk-container-id-1 div.sk-parallel-item:only-child::after {width: 0;}#sk-container-id-1 div.sk-dashed-wrapped {border: 1px dashed gray;margin: 0 0.4em 0.5em 0.4em;box-sizing: border-box;padding-bottom: 0.4em;background-color: white;}#sk-container-id-1 div.sk-label label {font-family: monospace;font-weight: bold;display: inline-block;line-height: 1.2em;}#sk-container-id-1 div.sk-label-container {text-align: center;}#sk-container-id-1 div.sk-container {/* jupyter's `normalize.less` sets `[hidden] { display: none; }` but bootstrap.min.css set `[hidden] { display: none !important; }` so we also need the `!important` here to be able to override the default hidden behavior on the sphinx rendered scikit-learn.org. See: https://github.com/scikit-learn/scikit-learn/issues/21755 */display: inline-block !important;position: relative;}#sk-container-id-1 div.sk-text-repr-fallback {display: none;}</style><div id=\"sk-container-id-1\" class=\"sk-top-container\"><div class=\"sk-text-repr-fallback\"><pre>LogisticRegression(C=1)</pre><b>In a Jupyter environment, please rerun this cell to show the HTML representation or trust the notebook. <br />On GitHub, the HTML representation is unable to render, please try loading this page with nbviewer.org.</b></div><div class=\"sk-container\" hidden><div class=\"sk-item\"><div class=\"sk-estimator sk-toggleable\"><input class=\"sk-toggleable__control sk-hidden--visually\" id=\"sk-estimator-id-1\" type=\"checkbox\" checked><label for=\"sk-estimator-id-1\" class=\"sk-toggleable__label sk-toggleable__label-arrow\">LogisticRegression</label><div class=\"sk-toggleable__content\"><pre>LogisticRegression(C=1)</pre></div></div></div></div></div>"
            ]
          },
          "metadata": {},
          "execution_count": 33
        }
      ]
    },
    {
      "cell_type": "code",
      "source": [
        "predictions = lr.predict_proba(X_train_tfv)\n",
        "print (\"logloss: %0.3f \" % multiclass_logloss(y_train_enc, predictions))"
      ],
      "metadata": {
        "colab": {
          "base_uri": "https://localhost:8080/"
        },
        "id": "uWjk0bdlf49m",
        "outputId": "2964f2c1-bf1e-4759-987b-543c6981ee97"
      },
      "execution_count": 34,
      "outputs": [
        {
          "output_type": "stream",
          "name": "stdout",
          "text": [
            "logloss: 1.129 \n"
          ]
        }
      ]
    },
    {
      "cell_type": "code",
      "source": [
        "predictions = lr.predict_proba(X_valid_tfv)\n",
        "print (\"logloss: %0.3f \" % multiclass_logloss(y_cv_enc, predictions))"
      ],
      "metadata": {
        "colab": {
          "base_uri": "https://localhost:8080/"
        },
        "id": "At3fZ3XlgCPY",
        "outputId": "261c1783-3da8-41f6-90ee-a0e11d12ca4c"
      },
      "execution_count": 35,
      "outputs": [
        {
          "output_type": "stream",
          "name": "stdout",
          "text": [
            "logloss: 1.477 \n"
          ]
        }
      ]
    },
    {
      "cell_type": "code",
      "source": [
        "predictions = lr.predict_proba(X_test_tfv)\n",
        "print (\"logloss: %0.3f \" % multiclass_logloss(y_test_enc, predictions))"
      ],
      "metadata": {
        "colab": {
          "base_uri": "https://localhost:8080/"
        },
        "id": "7fYakbnygFip",
        "outputId": "6bc0f7a5-b590-4e68-c218-2953a5d9dbbe"
      },
      "execution_count": 36,
      "outputs": [
        {
          "output_type": "stream",
          "name": "stdout",
          "text": [
            "logloss: 1.372 \n"
          ]
        }
      ]
    },
    {
      "cell_type": "code",
      "source": [
        "ctv = CountVectorizer(analyzer='word',token_pattern=r'\\w{1,}',\n",
        "            ngram_range=(1, 3), stop_words = 'english')\n",
        "\n",
        "# Fitting Count Vectorizer to both training and test sets (semi-supervised learning)\n",
        "ctv.fit(list(X_train['clean_utterance']) + list(X_cv['clean_utterance']) + list(X_test['clean_utterance']))\n",
        "X_train_ctv =  ctv.transform(X_train['clean_utterance']) \n",
        "X_valid_ctv = ctv.transform(X_cv['clean_utterance'])\n",
        "X_test_ctv = ctv.transform(X_test['clean_utterance'])"
      ],
      "metadata": {
        "id": "nJRqAzNzgIy7"
      },
      "execution_count": 37,
      "outputs": []
    },
    {
      "cell_type": "code",
      "source": [
        "X_train_ctv.shape,X_valid_ctv.shape,X_test_ctv.shape"
      ],
      "metadata": {
        "colab": {
          "base_uri": "https://localhost:8080/"
        },
        "id": "sbbujIuRgMuy",
        "outputId": "4d9ebe0c-ba71-4780-a22b-932e38041511"
      },
      "execution_count": 38,
      "outputs": [
        {
          "output_type": "execute_result",
          "data": {
            "text/plain": [
              "((9989, 51082), (1109, 51082), (2610, 51082))"
            ]
          },
          "metadata": {},
          "execution_count": 38
        }
      ]
    },
    {
      "cell_type": "code",
      "source": [
        "from sklearn.linear_model import LogisticRegression\n",
        "from sklearn.model_selection import GridSearchCV\n",
        "from sklearn.metrics import roc_auc_score\n",
        "\n",
        "\n",
        "alpha = [10 ** x for x in range(-6, 3)]\n",
        "\n",
        "\n",
        "# initialize Our first RandomForestRegressor model...\n",
        "regr2 = LogisticRegression()\n",
        "\n",
        "# declare parameters for hyperparameter tuning\n",
        "parameters = {'C':alpha} \n",
        "\n",
        "# Perform cross validation \n",
        "clf = GridSearchCV(regr2,\n",
        "                    param_grid = parameters,\n",
        "                    scoring=mll_scorer,\n",
        "                    n_jobs = -1,\n",
        "                    verbose = 10, refit=True, cv=2)\n",
        "result = clf.fit(X_train_ctv, y_train_enc)\n",
        "\n",
        "# Summarize results\n",
        "print(\"Best: %f using %s\" % (result.best_score_, result.best_params_))\n",
        "means = result.cv_results_['mean_test_score']\n",
        "stds = result.cv_results_['std_test_score']\n",
        "params = result.cv_results_['params']\n",
        "for mean, stdev, param in zip(means, stds, params):\n",
        "    print(\"%f 1(%f) with: %r\" % (mean, stdev, param))"
      ],
      "metadata": {
        "colab": {
          "base_uri": "https://localhost:8080/"
        },
        "id": "TEzuNvLwgQjU",
        "outputId": "708098f1-9b8a-43e1-de63-4e5023502b38"
      },
      "execution_count": 39,
      "outputs": [
        {
          "output_type": "stream",
          "name": "stdout",
          "text": [
            "Fitting 2 folds for each of 9 candidates, totalling 18 fits\n",
            "Best: -1.427496 using {'C': 0.1}\n",
            "-1.536658 1(0.000176) with: {'C': 1e-06}\n",
            "-1.536569 1(0.000177) with: {'C': 1e-05}\n",
            "-1.535706 1(0.000178) with: {'C': 0.0001}\n",
            "-1.528054 1(0.000209) with: {'C': 0.001}\n",
            "-1.489068 1(0.000305) with: {'C': 0.01}\n",
            "-1.427496 1(0.001608) with: {'C': 0.1}\n",
            "-1.460494 1(0.008207) with: {'C': 1}\n",
            "-1.784024 1(0.024597) with: {'C': 10}\n",
            "-2.629066 1(0.109235) with: {'C': 100}\n"
          ]
        }
      ]
    },
    {
      "cell_type": "code",
      "source": [
        "lr = LogisticRegression(C = 0.1)\n",
        "lr.fit(X_train_ctv, y_train_enc)"
      ],
      "metadata": {
        "colab": {
          "base_uri": "https://localhost:8080/",
          "height": 74
        },
        "id": "HUqiJYTxgUsN",
        "outputId": "197b8943-b157-49d1-e68d-6ec70aeea556"
      },
      "execution_count": 40,
      "outputs": [
        {
          "output_type": "execute_result",
          "data": {
            "text/plain": [
              "LogisticRegression(C=0.1)"
            ],
            "text/html": [
              "<style>#sk-container-id-2 {color: black;background-color: white;}#sk-container-id-2 pre{padding: 0;}#sk-container-id-2 div.sk-toggleable {background-color: white;}#sk-container-id-2 label.sk-toggleable__label {cursor: pointer;display: block;width: 100%;margin-bottom: 0;padding: 0.3em;box-sizing: border-box;text-align: center;}#sk-container-id-2 label.sk-toggleable__label-arrow:before {content: \"▸\";float: left;margin-right: 0.25em;color: #696969;}#sk-container-id-2 label.sk-toggleable__label-arrow:hover:before {color: black;}#sk-container-id-2 div.sk-estimator:hover label.sk-toggleable__label-arrow:before {color: black;}#sk-container-id-2 div.sk-toggleable__content {max-height: 0;max-width: 0;overflow: hidden;text-align: left;background-color: #f0f8ff;}#sk-container-id-2 div.sk-toggleable__content pre {margin: 0.2em;color: black;border-radius: 0.25em;background-color: #f0f8ff;}#sk-container-id-2 input.sk-toggleable__control:checked~div.sk-toggleable__content {max-height: 200px;max-width: 100%;overflow: auto;}#sk-container-id-2 input.sk-toggleable__control:checked~label.sk-toggleable__label-arrow:before {content: \"▾\";}#sk-container-id-2 div.sk-estimator input.sk-toggleable__control:checked~label.sk-toggleable__label {background-color: #d4ebff;}#sk-container-id-2 div.sk-label input.sk-toggleable__control:checked~label.sk-toggleable__label {background-color: #d4ebff;}#sk-container-id-2 input.sk-hidden--visually {border: 0;clip: rect(1px 1px 1px 1px);clip: rect(1px, 1px, 1px, 1px);height: 1px;margin: -1px;overflow: hidden;padding: 0;position: absolute;width: 1px;}#sk-container-id-2 div.sk-estimator {font-family: monospace;background-color: #f0f8ff;border: 1px dotted black;border-radius: 0.25em;box-sizing: border-box;margin-bottom: 0.5em;}#sk-container-id-2 div.sk-estimator:hover {background-color: #d4ebff;}#sk-container-id-2 div.sk-parallel-item::after {content: \"\";width: 100%;border-bottom: 1px solid gray;flex-grow: 1;}#sk-container-id-2 div.sk-label:hover label.sk-toggleable__label {background-color: #d4ebff;}#sk-container-id-2 div.sk-serial::before {content: \"\";position: absolute;border-left: 1px solid gray;box-sizing: border-box;top: 0;bottom: 0;left: 50%;z-index: 0;}#sk-container-id-2 div.sk-serial {display: flex;flex-direction: column;align-items: center;background-color: white;padding-right: 0.2em;padding-left: 0.2em;position: relative;}#sk-container-id-2 div.sk-item {position: relative;z-index: 1;}#sk-container-id-2 div.sk-parallel {display: flex;align-items: stretch;justify-content: center;background-color: white;position: relative;}#sk-container-id-2 div.sk-item::before, #sk-container-id-2 div.sk-parallel-item::before {content: \"\";position: absolute;border-left: 1px solid gray;box-sizing: border-box;top: 0;bottom: 0;left: 50%;z-index: -1;}#sk-container-id-2 div.sk-parallel-item {display: flex;flex-direction: column;z-index: 1;position: relative;background-color: white;}#sk-container-id-2 div.sk-parallel-item:first-child::after {align-self: flex-end;width: 50%;}#sk-container-id-2 div.sk-parallel-item:last-child::after {align-self: flex-start;width: 50%;}#sk-container-id-2 div.sk-parallel-item:only-child::after {width: 0;}#sk-container-id-2 div.sk-dashed-wrapped {border: 1px dashed gray;margin: 0 0.4em 0.5em 0.4em;box-sizing: border-box;padding-bottom: 0.4em;background-color: white;}#sk-container-id-2 div.sk-label label {font-family: monospace;font-weight: bold;display: inline-block;line-height: 1.2em;}#sk-container-id-2 div.sk-label-container {text-align: center;}#sk-container-id-2 div.sk-container {/* jupyter's `normalize.less` sets `[hidden] { display: none; }` but bootstrap.min.css set `[hidden] { display: none !important; }` so we also need the `!important` here to be able to override the default hidden behavior on the sphinx rendered scikit-learn.org. See: https://github.com/scikit-learn/scikit-learn/issues/21755 */display: inline-block !important;position: relative;}#sk-container-id-2 div.sk-text-repr-fallback {display: none;}</style><div id=\"sk-container-id-2\" class=\"sk-top-container\"><div class=\"sk-text-repr-fallback\"><pre>LogisticRegression(C=0.1)</pre><b>In a Jupyter environment, please rerun this cell to show the HTML representation or trust the notebook. <br />On GitHub, the HTML representation is unable to render, please try loading this page with nbviewer.org.</b></div><div class=\"sk-container\" hidden><div class=\"sk-item\"><div class=\"sk-estimator sk-toggleable\"><input class=\"sk-toggleable__control sk-hidden--visually\" id=\"sk-estimator-id-2\" type=\"checkbox\" checked><label for=\"sk-estimator-id-2\" class=\"sk-toggleable__label sk-toggleable__label-arrow\">LogisticRegression</label><div class=\"sk-toggleable__content\"><pre>LogisticRegression(C=0.1)</pre></div></div></div></div></div>"
            ]
          },
          "metadata": {},
          "execution_count": 40
        }
      ]
    },
    {
      "cell_type": "code",
      "source": [
        "\n",
        "predictions = lr.predict_proba(X_train_ctv)\n",
        "print (\"logloss: %0.3f \" % multiclass_logloss(y_train_enc, predictions))"
      ],
      "metadata": {
        "colab": {
          "base_uri": "https://localhost:8080/"
        },
        "id": "-eB2-KWKgYGC",
        "outputId": "9054f20f-901b-4cf6-ce03-3778711092b4"
      },
      "execution_count": 41,
      "outputs": [
        {
          "output_type": "stream",
          "name": "stdout",
          "text": [
            "logloss: 1.115 \n"
          ]
        }
      ]
    },
    {
      "cell_type": "code",
      "source": [
        "predictions = lr.predict_proba(X_valid_ctv)\n",
        "print (\"logloss: %0.3f \" % multiclass_logloss(y_cv_enc, predictions))"
      ],
      "metadata": {
        "colab": {
          "base_uri": "https://localhost:8080/"
        },
        "id": "HciI5JcjgbYr",
        "outputId": "dd0fa5c4-1e82-4273-a596-8305aa25ccab"
      },
      "execution_count": 42,
      "outputs": [
        {
          "output_type": "stream",
          "name": "stdout",
          "text": [
            "logloss: 1.501 \n"
          ]
        }
      ]
    },
    {
      "cell_type": "code",
      "source": [
        "predictions = lr.predict_proba(X_valid_ctv)\n",
        "print (\"logloss: %0.3f \" % multiclass_logloss(y_cv_enc, predictions))"
      ],
      "metadata": {
        "colab": {
          "base_uri": "https://localhost:8080/"
        },
        "id": "ZCPMW_qvgelH",
        "outputId": "78b76a88-3ceb-466f-a1b2-71071cab7a44"
      },
      "execution_count": 43,
      "outputs": [
        {
          "output_type": "stream",
          "name": "stdout",
          "text": [
            "logloss: 1.501 \n"
          ]
        }
      ]
    },
    {
      "cell_type": "code",
      "source": [
        "predictions = lr.predict_proba(X_test_ctv)\n",
        "print (\"logloss: %0.3f \" % multiclass_logloss(y_test_enc, predictions))"
      ],
      "metadata": {
        "colab": {
          "base_uri": "https://localhost:8080/"
        },
        "id": "obwxcrP7gnJS",
        "outputId": "296b4564-abe0-4e86-c74b-1aa442e7021c"
      },
      "execution_count": 44,
      "outputs": [
        {
          "output_type": "stream",
          "name": "stdout",
          "text": [
            "logloss: 1.394 \n"
          ]
        }
      ]
    }
  ]
}